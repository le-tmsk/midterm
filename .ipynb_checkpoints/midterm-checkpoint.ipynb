{
 "cells": [
  {
   "cell_type": "code",
   "execution_count": 1,
   "metadata": {},
   "outputs": [],
   "source": [
    "import requests\n",
    "from bs4 import BeautifulSoup\n",
    "import pandas as pd"
   ]
  },
  {
   "cell_type": "code",
   "execution_count": null,
   "metadata": {},
   "outputs": [],
   "source": [
    "#print(requests.get('https://ies.fsv.cuni.cz/robots.txt').text)"
   ]
  },
  {
   "cell_type": "code",
   "execution_count": 110,
   "metadata": {},
   "outputs": [],
   "source": [
    "#class for downloading\n",
    "class DiscworldChar():\n",
    "    ''' Class for downloading data regarding the main characters of Discworld - Ankh-Morpork and The Watch.'''\n",
    "   \n",
    "    def __init__(self, link):\n",
    "        ''' Constructor with compulsory link to the website'''\n",
    "        self.link = link\n",
    "        self.links = None\n",
    "        \n",
    "    def getSoup(self):\n",
    "        \"\"\"\" Method for getting HTML of website.\"\"\"\n",
    "        r = requests.get(self.link)\n",
    "        r.encoding = 'UTF-8'\n",
    "        soup = BeautifulSoup(r.text, 'lxml')\n",
    "        return soup\n",
    "    def getAllLinks(self):\n",
    "        '''' Method for getting all the links we are interested in.'''\n",
    "        soup2 = self.getSoup().find('span', {'id' : 'Unseen_University_and_the_Wizards'}).parent.previous.previous.parent.parent.parent.findAll('li')\n",
    "        links = ['http://wiki.lspace.org' + so.find('a')['href'] for so in soup2]\n",
    "        return links\n",
    "    def getName(self):\n",
    "        ''' popisek'''\n",
    "        store = []\n",
    "        for li in self.getAllLinks():\n",
    "            r2 = requests.get(li)\n",
    "            r2.encoding = 'UTF-8'\n",
    "            r3 = BeautifulSoup(r2.text).find('h1').text\n",
    "            store.append(r3)\n",
    "        return store\n",
    "#     def getBook(self):\n",
    "#         '''''''\n",
    "#         for li in self.getAllLinks():\n",
    "#             r2 = requests.get(li)\n",
    "#             r2.encoding = 'UTF-8'\n",
    "            "
   ]
  },
  {
   "cell_type": "code",
   "execution_count": 111,
   "metadata": {},
   "outputs": [
    {
     "data": {
      "text/plain": [
       "['Evadne Cake',\n",
       " 'Fred Colon',\n",
       " 'Marietta Cosmopilite',\n",
       " 'Detritus',\n",
       " 'Cut-Me-Own-Throat Dibbler',\n",
       " 'Dorfl',\n",
       " 'Rufus Drumknott',\n",
       " 'Gaspode',\n",
       " 'Carrot Ironfoundersson',\n",
       " 'Leonard of Quirm',\n",
       " 'Cheery Littlebottom',\n",
       " 'Nobby Nobbs',\n",
       " 'Sybil Ramkin',\n",
       " 'Foul Ole Ron',\n",
       " 'Reg Shoe',\n",
       " 'Slant',\n",
       " 'Angua von Überwald',\n",
       " 'Havelock Vetinari',\n",
       " 'Samuel Vimes',\n",
       " 'Visit-The-Infidel-With-Explanatory-Pamphlets',\n",
       " 'Willikins']"
      ]
     },
     "execution_count": 111,
     "metadata": {},
     "output_type": "execute_result"
    }
   ],
   "source": [
    "dc = DiscworldChar('http://wiki.lspace.org/mediawiki/List_of_Pratchett_characters')\n",
    "dc.getName()"
   ]
  }
 ],
 "metadata": {
  "kernelspec": {
   "display_name": "Python 3",
   "language": "python",
   "name": "python3"
  },
  "language_info": {
   "codemirror_mode": {
    "name": "ipython",
    "version": 3
   },
   "file_extension": ".py",
   "mimetype": "text/x-python",
   "name": "python",
   "nbconvert_exporter": "python",
   "pygments_lexer": "ipython3",
   "version": "3.7.4"
  }
 },
 "nbformat": 4,
 "nbformat_minor": 2
}
